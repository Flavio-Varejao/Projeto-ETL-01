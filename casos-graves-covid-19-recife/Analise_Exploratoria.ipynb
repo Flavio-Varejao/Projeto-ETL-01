{
 "cells": [
  {
   "cell_type": "markdown",
   "id": "b361ec87",
   "metadata": {},
   "source": [
    "# Análise Exploratória de Dados"
   ]
  },
  {
   "cell_type": "code",
   "execution_count": 1,
   "id": "143b51ec",
   "metadata": {},
   "outputs": [],
   "source": [
    "import pandas as pd\n",
    "import pandera as pa\n",
    "import matplotlib.pyplot as plt"
   ]
  },
  {
   "cell_type": "code",
   "execution_count": 2,
   "id": "353b9b4f",
   "metadata": {},
   "outputs": [
    {
     "data": {
      "text/html": [
       "<div>\n",
       "<style scoped>\n",
       "    .dataframe tbody tr th:only-of-type {\n",
       "        vertical-align: middle;\n",
       "    }\n",
       "\n",
       "    .dataframe tbody tr th {\n",
       "        vertical-align: top;\n",
       "    }\n",
       "\n",
       "    .dataframe thead th {\n",
       "        text-align: right;\n",
       "    }\n",
       "</style>\n",
       "<table border=\"1\" class=\"dataframe\">\n",
       "  <thead>\n",
       "    <tr style=\"text-align: right;\">\n",
       "      <th></th>\n",
       "      <th>_id</th>\n",
       "      <th>sexo</th>\n",
       "      <th>idade</th>\n",
       "      <th>raca</th>\n",
       "      <th>etnia</th>\n",
       "      <th>morbidades_previas</th>\n",
       "      <th>outras_morbidades_previas</th>\n",
       "      <th>evolucao</th>\n",
       "      <th>data_inicio_primeiros_sintomas</th>\n",
       "      <th>data_notificacao</th>\n",
       "      <th>data_obito</th>\n",
       "      <th>classificacao_final</th>\n",
       "    </tr>\n",
       "  </thead>\n",
       "  <tbody>\n",
       "    <tr>\n",
       "      <th>0</th>\n",
       "      <td>1</td>\n",
       "      <td>Masculino</td>\n",
       "      <td>9 meses</td>\n",
       "      <td>Ignorado</td>\n",
       "      <td>NaN</td>\n",
       "      <td>Doenças Respiratórias Crônicas</td>\n",
       "      <td>NaN</td>\n",
       "      <td>INTERNADO LEITO DE ISOLAMENTO</td>\n",
       "      <td>2021-02-24</td>\n",
       "      <td>2021-03-02</td>\n",
       "      <td>NaT</td>\n",
       "      <td>DESCARTADO</td>\n",
       "    </tr>\n",
       "    <tr>\n",
       "      <th>1</th>\n",
       "      <td>2</td>\n",
       "      <td>Feminino</td>\n",
       "      <td>46</td>\n",
       "      <td>Branca</td>\n",
       "      <td>NaN</td>\n",
       "      <td>NaN</td>\n",
       "      <td>NaN</td>\n",
       "      <td>INTERNADO LEITO DE ISOLAMENTO</td>\n",
       "      <td>2021-02-28</td>\n",
       "      <td>2021-03-03</td>\n",
       "      <td>NaT</td>\n",
       "      <td>EM ANÁLISE</td>\n",
       "    </tr>\n",
       "    <tr>\n",
       "      <th>2</th>\n",
       "      <td>3</td>\n",
       "      <td>Masculino</td>\n",
       "      <td>78</td>\n",
       "      <td>Branca</td>\n",
       "      <td>NaN</td>\n",
       "      <td>Doenças Cardíacas ou Vasculares, Doença Hepáti...</td>\n",
       "      <td>NaN</td>\n",
       "      <td>ÓBITO</td>\n",
       "      <td>2021-01-06</td>\n",
       "      <td>2021-01-08</td>\n",
       "      <td>2021-01-26</td>\n",
       "      <td>CONFIRMADO</td>\n",
       "    </tr>\n",
       "    <tr>\n",
       "      <th>3</th>\n",
       "      <td>4</td>\n",
       "      <td>Feminino</td>\n",
       "      <td>62</td>\n",
       "      <td>Parda</td>\n",
       "      <td>NaN</td>\n",
       "      <td>NaN</td>\n",
       "      <td>NaN</td>\n",
       "      <td>INTERNADO LEITO DE ISOLAMENTO</td>\n",
       "      <td>2021-02-23</td>\n",
       "      <td>2021-03-02</td>\n",
       "      <td>NaT</td>\n",
       "      <td>EM ANÁLISE</td>\n",
       "    </tr>\n",
       "    <tr>\n",
       "      <th>4</th>\n",
       "      <td>5</td>\n",
       "      <td>Masculino</td>\n",
       "      <td>26</td>\n",
       "      <td>Parda</td>\n",
       "      <td>NaN</td>\n",
       "      <td>NaN</td>\n",
       "      <td>NaN</td>\n",
       "      <td>INTERNADO LEITO DE ISOLAMENTO</td>\n",
       "      <td>2021-02-24</td>\n",
       "      <td>2021-03-01</td>\n",
       "      <td>NaT</td>\n",
       "      <td>DESCARTADO</td>\n",
       "    </tr>\n",
       "    <tr>\n",
       "      <th>...</th>\n",
       "      <td>...</td>\n",
       "      <td>...</td>\n",
       "      <td>...</td>\n",
       "      <td>...</td>\n",
       "      <td>...</td>\n",
       "      <td>...</td>\n",
       "      <td>...</td>\n",
       "      <td>...</td>\n",
       "      <td>...</td>\n",
       "      <td>...</td>\n",
       "      <td>...</td>\n",
       "      <td>...</td>\n",
       "    </tr>\n",
       "    <tr>\n",
       "      <th>5495</th>\n",
       "      <td>5496</td>\n",
       "      <td>Masculino</td>\n",
       "      <td>2 meses</td>\n",
       "      <td>Parda</td>\n",
       "      <td>NaN</td>\n",
       "      <td>NaN</td>\n",
       "      <td>NaN</td>\n",
       "      <td>INTERNADO LEITO DE ISOLAMENTO</td>\n",
       "      <td>2020-10-31</td>\n",
       "      <td>2020-11-04</td>\n",
       "      <td>NaT</td>\n",
       "      <td>DESCARTADO</td>\n",
       "    </tr>\n",
       "    <tr>\n",
       "      <th>5496</th>\n",
       "      <td>5497</td>\n",
       "      <td>Masculino</td>\n",
       "      <td>79</td>\n",
       "      <td>Parda</td>\n",
       "      <td>NaN</td>\n",
       "      <td>Doenças Respiratórias Crônicas, Diabetes</td>\n",
       "      <td>EX TABAGISTA</td>\n",
       "      <td>ÓBITO</td>\n",
       "      <td>NaT</td>\n",
       "      <td>2020-12-16</td>\n",
       "      <td>2020-11-19</td>\n",
       "      <td>CONFIRMADO</td>\n",
       "    </tr>\n",
       "    <tr>\n",
       "      <th>5497</th>\n",
       "      <td>5498</td>\n",
       "      <td>Masculino</td>\n",
       "      <td>79</td>\n",
       "      <td>Parda</td>\n",
       "      <td>NaN</td>\n",
       "      <td>Doenças Cardíacas ou Vasculares</td>\n",
       "      <td>NaN</td>\n",
       "      <td>INTERNADO LEITO DE ISOLAMENTO</td>\n",
       "      <td>2020-12-14</td>\n",
       "      <td>2020-12-17</td>\n",
       "      <td>NaT</td>\n",
       "      <td>EM ANÁLISE</td>\n",
       "    </tr>\n",
       "    <tr>\n",
       "      <th>5498</th>\n",
       "      <td>5499</td>\n",
       "      <td>Masculino</td>\n",
       "      <td>44</td>\n",
       "      <td>Parda</td>\n",
       "      <td>NaN</td>\n",
       "      <td>Doenças Cardíacas ou Vasculares, Sobrepeso/Obe...</td>\n",
       "      <td>NaN</td>\n",
       "      <td>INTERNADO LEITO DE ISOLAMENTO</td>\n",
       "      <td>2020-11-29</td>\n",
       "      <td>2020-12-01</td>\n",
       "      <td>NaT</td>\n",
       "      <td>DESCARTADO</td>\n",
       "    </tr>\n",
       "    <tr>\n",
       "      <th>5499</th>\n",
       "      <td>5500</td>\n",
       "      <td>Masculino</td>\n",
       "      <td>58</td>\n",
       "      <td>Parda</td>\n",
       "      <td>NaN</td>\n",
       "      <td>NaN</td>\n",
       "      <td>HAS</td>\n",
       "      <td>ÓBITO</td>\n",
       "      <td>2020-11-28</td>\n",
       "      <td>2020-12-02</td>\n",
       "      <td>2020-12-08</td>\n",
       "      <td>DESCARTADO</td>\n",
       "    </tr>\n",
       "  </tbody>\n",
       "</table>\n",
       "<p>5500 rows × 12 columns</p>\n",
       "</div>"
      ],
      "text/plain": [
       "       _id       sexo    idade      raca  etnia  \\\n",
       "0        1  Masculino  9 meses  Ignorado    NaN   \n",
       "1        2   Feminino       46    Branca    NaN   \n",
       "2        3  Masculino       78    Branca    NaN   \n",
       "3        4   Feminino       62     Parda    NaN   \n",
       "4        5  Masculino       26     Parda    NaN   \n",
       "...    ...        ...      ...       ...    ...   \n",
       "5495  5496  Masculino  2 meses     Parda    NaN   \n",
       "5496  5497  Masculino       79     Parda    NaN   \n",
       "5497  5498  Masculino       79     Parda    NaN   \n",
       "5498  5499  Masculino       44     Parda    NaN   \n",
       "5499  5500  Masculino       58     Parda    NaN   \n",
       "\n",
       "                                     morbidades_previas  \\\n",
       "0                        Doenças Respiratórias Crônicas   \n",
       "1                                                   NaN   \n",
       "2     Doenças Cardíacas ou Vasculares, Doença Hepáti...   \n",
       "3                                                   NaN   \n",
       "4                                                   NaN   \n",
       "...                                                 ...   \n",
       "5495                                                NaN   \n",
       "5496           Doenças Respiratórias Crônicas, Diabetes   \n",
       "5497                    Doenças Cardíacas ou Vasculares   \n",
       "5498  Doenças Cardíacas ou Vasculares, Sobrepeso/Obe...   \n",
       "5499                                                NaN   \n",
       "\n",
       "     outras_morbidades_previas                       evolucao  \\\n",
       "0                          NaN  INTERNADO LEITO DE ISOLAMENTO   \n",
       "1                          NaN  INTERNADO LEITO DE ISOLAMENTO   \n",
       "2                          NaN                          ÓBITO   \n",
       "3                          NaN  INTERNADO LEITO DE ISOLAMENTO   \n",
       "4                          NaN  INTERNADO LEITO DE ISOLAMENTO   \n",
       "...                        ...                            ...   \n",
       "5495                       NaN  INTERNADO LEITO DE ISOLAMENTO   \n",
       "5496              EX TABAGISTA                          ÓBITO   \n",
       "5497                       NaN  INTERNADO LEITO DE ISOLAMENTO   \n",
       "5498                       NaN  INTERNADO LEITO DE ISOLAMENTO   \n",
       "5499                       HAS                          ÓBITO   \n",
       "\n",
       "     data_inicio_primeiros_sintomas data_notificacao data_obito  \\\n",
       "0                        2021-02-24       2021-03-02        NaT   \n",
       "1                        2021-02-28       2021-03-03        NaT   \n",
       "2                        2021-01-06       2021-01-08 2021-01-26   \n",
       "3                        2021-02-23       2021-03-02        NaT   \n",
       "4                        2021-02-24       2021-03-01        NaT   \n",
       "...                             ...              ...        ...   \n",
       "5495                     2020-10-31       2020-11-04        NaT   \n",
       "5496                            NaT       2020-12-16 2020-11-19   \n",
       "5497                     2020-12-14       2020-12-17        NaT   \n",
       "5498                     2020-11-29       2020-12-01        NaT   \n",
       "5499                     2020-11-28       2020-12-02 2020-12-08   \n",
       "\n",
       "     classificacao_final  \n",
       "0             DESCARTADO  \n",
       "1             EM ANÁLISE  \n",
       "2             CONFIRMADO  \n",
       "3             EM ANÁLISE  \n",
       "4             DESCARTADO  \n",
       "...                  ...  \n",
       "5495          DESCARTADO  \n",
       "5496          CONFIRMADO  \n",
       "5497          EM ANÁLISE  \n",
       "5498          DESCARTADO  \n",
       "5499          DESCARTADO  \n",
       "\n",
       "[5500 rows x 12 columns]"
      ]
     },
     "execution_count": 2,
     "metadata": {},
     "output_type": "execute_result"
    }
   ],
   "source": [
    "#Criação do dataframe e checagem dos dados\n",
    "valores_ausentes = \"00/01/1900\"\n",
    "df = pd.read_csv(\"93f4e8c2-430f-4142-86b3-96dab4905b4e.csv\", parse_dates=['data_inicio_primeiros_sintomas','data_notificacao','data_obito'], na_values=valores_ausentes)\n",
    "df"
   ]
  },
  {
   "cell_type": "code",
   "execution_count": 3,
   "id": "511a4707",
   "metadata": {},
   "outputs": [],
   "source": [
    "#Alteração do tipo de dados da coluna 'etnia' para 'object'\n",
    "df[\"etnia\"] = df[\"etnia\"].astype(object)"
   ]
  },
  {
   "cell_type": "code",
   "execution_count": 4,
   "id": "517ec3bc",
   "metadata": {},
   "outputs": [],
   "source": [
    "#Renomear a coluna '_id' para 'id'\n",
    "df = df.rename(columns={\"_id\":\"id\"})"
   ]
  },
  {
   "cell_type": "code",
   "execution_count": 5,
   "id": "dbb24c6b",
   "metadata": {},
   "outputs": [
    {
     "data": {
      "text/plain": [
       "id                                         int64\n",
       "sexo                                      object\n",
       "idade                                     object\n",
       "raca                                      object\n",
       "etnia                                     object\n",
       "morbidades_previas                        object\n",
       "outras_morbidades_previas                 object\n",
       "evolucao                                  object\n",
       "data_inicio_primeiros_sintomas    datetime64[ns]\n",
       "data_notificacao                  datetime64[ns]\n",
       "data_obito                        datetime64[ns]\n",
       "classificacao_final                       object\n",
       "dtype: object"
      ]
     },
     "execution_count": 5,
     "metadata": {},
     "output_type": "execute_result"
    }
   ],
   "source": [
    "#Checar os tipos de dados\n",
    "df.dtypes"
   ]
  },
  {
   "cell_type": "code",
   "execution_count": 6,
   "id": "6bf63c76",
   "metadata": {},
   "outputs": [
    {
     "data": {
      "text/html": [
       "<div>\n",
       "<style scoped>\n",
       "    .dataframe tbody tr th:only-of-type {\n",
       "        vertical-align: middle;\n",
       "    }\n",
       "\n",
       "    .dataframe tbody tr th {\n",
       "        vertical-align: top;\n",
       "    }\n",
       "\n",
       "    .dataframe thead th {\n",
       "        text-align: right;\n",
       "    }\n",
       "</style>\n",
       "<table border=\"1\" class=\"dataframe\">\n",
       "  <thead>\n",
       "    <tr style=\"text-align: right;\">\n",
       "      <th></th>\n",
       "      <th>id</th>\n",
       "      <th>sexo</th>\n",
       "      <th>idade</th>\n",
       "      <th>raca</th>\n",
       "      <th>etnia</th>\n",
       "      <th>morbidades_previas</th>\n",
       "      <th>outras_morbidades_previas</th>\n",
       "      <th>evolucao</th>\n",
       "      <th>data_inicio_primeiros_sintomas</th>\n",
       "      <th>data_notificacao</th>\n",
       "      <th>data_obito</th>\n",
       "      <th>classificacao_final</th>\n",
       "      <th>Idade</th>\n",
       "    </tr>\n",
       "  </thead>\n",
       "  <tbody>\n",
       "    <tr>\n",
       "      <th>0</th>\n",
       "      <td>1</td>\n",
       "      <td>Masculino</td>\n",
       "      <td>9 meses</td>\n",
       "      <td>Ignorado</td>\n",
       "      <td>NaN</td>\n",
       "      <td>Doenças Respiratórias Crônicas</td>\n",
       "      <td>NaN</td>\n",
       "      <td>INTERNADO LEITO DE ISOLAMENTO</td>\n",
       "      <td>2021-02-24</td>\n",
       "      <td>2021-03-02</td>\n",
       "      <td>NaT</td>\n",
       "      <td>DESCARTADO</td>\n",
       "      <td>9 meses</td>\n",
       "    </tr>\n",
       "    <tr>\n",
       "      <th>1</th>\n",
       "      <td>2</td>\n",
       "      <td>Feminino</td>\n",
       "      <td>46</td>\n",
       "      <td>Branca</td>\n",
       "      <td>NaN</td>\n",
       "      <td>NaN</td>\n",
       "      <td>NaN</td>\n",
       "      <td>INTERNADO LEITO DE ISOLAMENTO</td>\n",
       "      <td>2021-02-28</td>\n",
       "      <td>2021-03-03</td>\n",
       "      <td>NaT</td>\n",
       "      <td>EM ANÁLISE</td>\n",
       "      <td>46</td>\n",
       "    </tr>\n",
       "    <tr>\n",
       "      <th>2</th>\n",
       "      <td>3</td>\n",
       "      <td>Masculino</td>\n",
       "      <td>78</td>\n",
       "      <td>Branca</td>\n",
       "      <td>NaN</td>\n",
       "      <td>Doenças Cardíacas ou Vasculares, Doença Hepáti...</td>\n",
       "      <td>NaN</td>\n",
       "      <td>ÓBITO</td>\n",
       "      <td>2021-01-06</td>\n",
       "      <td>2021-01-08</td>\n",
       "      <td>2021-01-26</td>\n",
       "      <td>CONFIRMADO</td>\n",
       "      <td>78</td>\n",
       "    </tr>\n",
       "    <tr>\n",
       "      <th>3</th>\n",
       "      <td>4</td>\n",
       "      <td>Feminino</td>\n",
       "      <td>62</td>\n",
       "      <td>Parda</td>\n",
       "      <td>NaN</td>\n",
       "      <td>NaN</td>\n",
       "      <td>NaN</td>\n",
       "      <td>INTERNADO LEITO DE ISOLAMENTO</td>\n",
       "      <td>2021-02-23</td>\n",
       "      <td>2021-03-02</td>\n",
       "      <td>NaT</td>\n",
       "      <td>EM ANÁLISE</td>\n",
       "      <td>62</td>\n",
       "    </tr>\n",
       "    <tr>\n",
       "      <th>4</th>\n",
       "      <td>5</td>\n",
       "      <td>Masculino</td>\n",
       "      <td>26</td>\n",
       "      <td>Parda</td>\n",
       "      <td>NaN</td>\n",
       "      <td>NaN</td>\n",
       "      <td>NaN</td>\n",
       "      <td>INTERNADO LEITO DE ISOLAMENTO</td>\n",
       "      <td>2021-02-24</td>\n",
       "      <td>2021-03-01</td>\n",
       "      <td>NaT</td>\n",
       "      <td>DESCARTADO</td>\n",
       "      <td>26</td>\n",
       "    </tr>\n",
       "  </tbody>\n",
       "</table>\n",
       "</div>"
      ],
      "text/plain": [
       "   id       sexo    idade      raca etnia  \\\n",
       "0   1  Masculino  9 meses  Ignorado   NaN   \n",
       "1   2   Feminino       46    Branca   NaN   \n",
       "2   3  Masculino       78    Branca   NaN   \n",
       "3   4   Feminino       62     Parda   NaN   \n",
       "4   5  Masculino       26     Parda   NaN   \n",
       "\n",
       "                                  morbidades_previas  \\\n",
       "0                     Doenças Respiratórias Crônicas   \n",
       "1                                                NaN   \n",
       "2  Doenças Cardíacas ou Vasculares, Doença Hepáti...   \n",
       "3                                                NaN   \n",
       "4                                                NaN   \n",
       "\n",
       "  outras_morbidades_previas                       evolucao  \\\n",
       "0                       NaN  INTERNADO LEITO DE ISOLAMENTO   \n",
       "1                       NaN  INTERNADO LEITO DE ISOLAMENTO   \n",
       "2                       NaN                          ÓBITO   \n",
       "3                       NaN  INTERNADO LEITO DE ISOLAMENTO   \n",
       "4                       NaN  INTERNADO LEITO DE ISOLAMENTO   \n",
       "\n",
       "  data_inicio_primeiros_sintomas data_notificacao data_obito  \\\n",
       "0                     2021-02-24       2021-03-02        NaT   \n",
       "1                     2021-02-28       2021-03-03        NaT   \n",
       "2                     2021-01-06       2021-01-08 2021-01-26   \n",
       "3                     2021-02-23       2021-03-02        NaT   \n",
       "4                     2021-02-24       2021-03-01        NaT   \n",
       "\n",
       "  classificacao_final    Idade  \n",
       "0          DESCARTADO  9 meses  \n",
       "1          EM ANÁLISE       46  \n",
       "2          CONFIRMADO       78  \n",
       "3          EM ANÁLISE       62  \n",
       "4          DESCARTADO       26  "
      ]
     },
     "execution_count": 6,
     "metadata": {},
     "output_type": "execute_result"
    }
   ],
   "source": [
    "#Criação de uma nova coluna de idade\n",
    "df[\"Idade\"] = df[\"idade\"]\n",
    "df.head(5)"
   ]
  },
  {
   "cell_type": "code",
   "execution_count": 7,
   "id": "86355783",
   "metadata": {},
   "outputs": [],
   "source": [
    "#Substituição de idades com menos de 1 ano por 0\n",
    "filtro = df.Idade.str.contains(\"mês|meses\")\n",
    "df.loc[filtro, [\"Idade\"]] = 0"
   ]
  },
  {
   "cell_type": "code",
   "execution_count": 8,
   "id": "91ede70f",
   "metadata": {},
   "outputs": [
    {
     "data": {
      "text/html": [
       "<div>\n",
       "<style scoped>\n",
       "    .dataframe tbody tr th:only-of-type {\n",
       "        vertical-align: middle;\n",
       "    }\n",
       "\n",
       "    .dataframe tbody tr th {\n",
       "        vertical-align: top;\n",
       "    }\n",
       "\n",
       "    .dataframe thead th {\n",
       "        text-align: right;\n",
       "    }\n",
       "</style>\n",
       "<table border=\"1\" class=\"dataframe\">\n",
       "  <thead>\n",
       "    <tr style=\"text-align: right;\">\n",
       "      <th></th>\n",
       "      <th>id</th>\n",
       "      <th>sexo</th>\n",
       "      <th>idade</th>\n",
       "      <th>raca</th>\n",
       "      <th>etnia</th>\n",
       "      <th>morbidades_previas</th>\n",
       "      <th>outras_morbidades_previas</th>\n",
       "      <th>evolucao</th>\n",
       "      <th>data_inicio_primeiros_sintomas</th>\n",
       "      <th>data_notificacao</th>\n",
       "      <th>data_obito</th>\n",
       "      <th>classificacao_final</th>\n",
       "      <th>Idade</th>\n",
       "    </tr>\n",
       "  </thead>\n",
       "  <tbody>\n",
       "    <tr>\n",
       "      <th>0</th>\n",
       "      <td>1</td>\n",
       "      <td>Masculino</td>\n",
       "      <td>9 meses</td>\n",
       "      <td>Ignorado</td>\n",
       "      <td>NaN</td>\n",
       "      <td>Doenças Respiratórias Crônicas</td>\n",
       "      <td>NaN</td>\n",
       "      <td>INTERNADO LEITO DE ISOLAMENTO</td>\n",
       "      <td>2021-02-24</td>\n",
       "      <td>2021-03-02</td>\n",
       "      <td>NaT</td>\n",
       "      <td>DESCARTADO</td>\n",
       "      <td>0</td>\n",
       "    </tr>\n",
       "    <tr>\n",
       "      <th>1</th>\n",
       "      <td>2</td>\n",
       "      <td>Feminino</td>\n",
       "      <td>46</td>\n",
       "      <td>Branca</td>\n",
       "      <td>NaN</td>\n",
       "      <td>NaN</td>\n",
       "      <td>NaN</td>\n",
       "      <td>INTERNADO LEITO DE ISOLAMENTO</td>\n",
       "      <td>2021-02-28</td>\n",
       "      <td>2021-03-03</td>\n",
       "      <td>NaT</td>\n",
       "      <td>EM ANÁLISE</td>\n",
       "      <td>46</td>\n",
       "    </tr>\n",
       "    <tr>\n",
       "      <th>2</th>\n",
       "      <td>3</td>\n",
       "      <td>Masculino</td>\n",
       "      <td>78</td>\n",
       "      <td>Branca</td>\n",
       "      <td>NaN</td>\n",
       "      <td>Doenças Cardíacas ou Vasculares, Doença Hepáti...</td>\n",
       "      <td>NaN</td>\n",
       "      <td>ÓBITO</td>\n",
       "      <td>2021-01-06</td>\n",
       "      <td>2021-01-08</td>\n",
       "      <td>2021-01-26</td>\n",
       "      <td>CONFIRMADO</td>\n",
       "      <td>78</td>\n",
       "    </tr>\n",
       "    <tr>\n",
       "      <th>3</th>\n",
       "      <td>4</td>\n",
       "      <td>Feminino</td>\n",
       "      <td>62</td>\n",
       "      <td>Parda</td>\n",
       "      <td>NaN</td>\n",
       "      <td>NaN</td>\n",
       "      <td>NaN</td>\n",
       "      <td>INTERNADO LEITO DE ISOLAMENTO</td>\n",
       "      <td>2021-02-23</td>\n",
       "      <td>2021-03-02</td>\n",
       "      <td>NaT</td>\n",
       "      <td>EM ANÁLISE</td>\n",
       "      <td>62</td>\n",
       "    </tr>\n",
       "    <tr>\n",
       "      <th>4</th>\n",
       "      <td>5</td>\n",
       "      <td>Masculino</td>\n",
       "      <td>26</td>\n",
       "      <td>Parda</td>\n",
       "      <td>NaN</td>\n",
       "      <td>NaN</td>\n",
       "      <td>NaN</td>\n",
       "      <td>INTERNADO LEITO DE ISOLAMENTO</td>\n",
       "      <td>2021-02-24</td>\n",
       "      <td>2021-03-01</td>\n",
       "      <td>NaT</td>\n",
       "      <td>DESCARTADO</td>\n",
       "      <td>26</td>\n",
       "    </tr>\n",
       "  </tbody>\n",
       "</table>\n",
       "</div>"
      ],
      "text/plain": [
       "   id       sexo    idade      raca etnia  \\\n",
       "0   1  Masculino  9 meses  Ignorado   NaN   \n",
       "1   2   Feminino       46    Branca   NaN   \n",
       "2   3  Masculino       78    Branca   NaN   \n",
       "3   4   Feminino       62     Parda   NaN   \n",
       "4   5  Masculino       26     Parda   NaN   \n",
       "\n",
       "                                  morbidades_previas  \\\n",
       "0                     Doenças Respiratórias Crônicas   \n",
       "1                                                NaN   \n",
       "2  Doenças Cardíacas ou Vasculares, Doença Hepáti...   \n",
       "3                                                NaN   \n",
       "4                                                NaN   \n",
       "\n",
       "  outras_morbidades_previas                       evolucao  \\\n",
       "0                       NaN  INTERNADO LEITO DE ISOLAMENTO   \n",
       "1                       NaN  INTERNADO LEITO DE ISOLAMENTO   \n",
       "2                       NaN                          ÓBITO   \n",
       "3                       NaN  INTERNADO LEITO DE ISOLAMENTO   \n",
       "4                       NaN  INTERNADO LEITO DE ISOLAMENTO   \n",
       "\n",
       "  data_inicio_primeiros_sintomas data_notificacao data_obito  \\\n",
       "0                     2021-02-24       2021-03-02        NaT   \n",
       "1                     2021-02-28       2021-03-03        NaT   \n",
       "2                     2021-01-06       2021-01-08 2021-01-26   \n",
       "3                     2021-02-23       2021-03-02        NaT   \n",
       "4                     2021-02-24       2021-03-01        NaT   \n",
       "\n",
       "  classificacao_final Idade  \n",
       "0          DESCARTADO     0  \n",
       "1          EM ANÁLISE    46  \n",
       "2          CONFIRMADO    78  \n",
       "3          EM ANÁLISE    62  \n",
       "4          DESCARTADO    26  "
      ]
     },
     "execution_count": 8,
     "metadata": {},
     "output_type": "execute_result"
    }
   ],
   "source": [
    "df.head(5)"
   ]
  },
  {
   "cell_type": "code",
   "execution_count": 9,
   "id": "ce092826",
   "metadata": {},
   "outputs": [
    {
     "data": {
      "text/html": [
       "<div>\n",
       "<style scoped>\n",
       "    .dataframe tbody tr th:only-of-type {\n",
       "        vertical-align: middle;\n",
       "    }\n",
       "\n",
       "    .dataframe tbody tr th {\n",
       "        vertical-align: top;\n",
       "    }\n",
       "\n",
       "    .dataframe thead th {\n",
       "        text-align: right;\n",
       "    }\n",
       "</style>\n",
       "<table border=\"1\" class=\"dataframe\">\n",
       "  <thead>\n",
       "    <tr style=\"text-align: right;\">\n",
       "      <th></th>\n",
       "      <th>id</th>\n",
       "      <th>sexo</th>\n",
       "      <th>idade</th>\n",
       "      <th>raca</th>\n",
       "      <th>etnia</th>\n",
       "      <th>morbidades_previas</th>\n",
       "      <th>outras_morbidades_previas</th>\n",
       "      <th>evolucao</th>\n",
       "      <th>data_inicio_primeiros_sintomas</th>\n",
       "      <th>data_notificacao</th>\n",
       "      <th>data_obito</th>\n",
       "      <th>classificacao_final</th>\n",
       "      <th>Idade</th>\n",
       "    </tr>\n",
       "  </thead>\n",
       "  <tbody>\n",
       "    <tr>\n",
       "      <th>2346</th>\n",
       "      <td>2347</td>\n",
       "      <td>Masculino</td>\n",
       "      <td>IGN</td>\n",
       "      <td>NaN</td>\n",
       "      <td>NaN</td>\n",
       "      <td>NaN</td>\n",
       "      <td>NaN</td>\n",
       "      <td>ISOLAMENTO DOMICILIAR</td>\n",
       "      <td>2020-04-21</td>\n",
       "      <td>2020-04-24</td>\n",
       "      <td>NaT</td>\n",
       "      <td>DESCARTADO</td>\n",
       "      <td>IGN</td>\n",
       "    </tr>\n",
       "    <tr>\n",
       "      <th>3043</th>\n",
       "      <td>3044</td>\n",
       "      <td>Masculino</td>\n",
       "      <td>IGN</td>\n",
       "      <td>NaN</td>\n",
       "      <td>NaN</td>\n",
       "      <td>NaN</td>\n",
       "      <td>NaN</td>\n",
       "      <td>ISOLAMENTO DOMICILIAR</td>\n",
       "      <td>2020-03-18</td>\n",
       "      <td>2020-03-23</td>\n",
       "      <td>NaT</td>\n",
       "      <td>DESCARTADO</td>\n",
       "      <td>IGN</td>\n",
       "    </tr>\n",
       "    <tr>\n",
       "      <th>4188</th>\n",
       "      <td>4189</td>\n",
       "      <td>Feminino</td>\n",
       "      <td>IGN</td>\n",
       "      <td>NaN</td>\n",
       "      <td>NaN</td>\n",
       "      <td>NaN</td>\n",
       "      <td>NaN</td>\n",
       "      <td>ISOLAMENTO DOMICILIAR</td>\n",
       "      <td>2020-03-22</td>\n",
       "      <td>2020-03-24</td>\n",
       "      <td>NaT</td>\n",
       "      <td>INCONCLUSIVO</td>\n",
       "      <td>IGN</td>\n",
       "    </tr>\n",
       "  </tbody>\n",
       "</table>\n",
       "</div>"
      ],
      "text/plain": [
       "        id       sexo idade raca etnia morbidades_previas  \\\n",
       "2346  2347  Masculino   IGN  NaN   NaN                NaN   \n",
       "3043  3044  Masculino   IGN  NaN   NaN                NaN   \n",
       "4188  4189   Feminino   IGN  NaN   NaN                NaN   \n",
       "\n",
       "     outras_morbidades_previas               evolucao  \\\n",
       "2346                       NaN  ISOLAMENTO DOMICILIAR   \n",
       "3043                       NaN  ISOLAMENTO DOMICILIAR   \n",
       "4188                       NaN  ISOLAMENTO DOMICILIAR   \n",
       "\n",
       "     data_inicio_primeiros_sintomas data_notificacao data_obito  \\\n",
       "2346                     2020-04-21       2020-04-24        NaT   \n",
       "3043                     2020-03-18       2020-03-23        NaT   \n",
       "4188                     2020-03-22       2020-03-24        NaT   \n",
       "\n",
       "     classificacao_final Idade  \n",
       "2346          DESCARTADO   IGN  \n",
       "3043          DESCARTADO   IGN  \n",
       "4188        INCONCLUSIVO   IGN  "
      ]
     },
     "execution_count": 9,
     "metadata": {},
     "output_type": "execute_result"
    }
   ],
   "source": [
    "df.loc[df.Idade == \"IGN\"]"
   ]
  },
  {
   "cell_type": "code",
   "execution_count": 10,
   "id": "8f3898e9",
   "metadata": {},
   "outputs": [],
   "source": [
    "#Substituição de dados não informados da coluna 'Idade'\n",
    "df.loc[df.Idade == \"IGN\", [\"Idade\"]] = 999"
   ]
  },
  {
   "cell_type": "code",
   "execution_count": 11,
   "id": "490d963b",
   "metadata": {},
   "outputs": [],
   "source": [
    "#Converter a coluna 'idade' para valores inteiros\n",
    "df[\"Idade\"] = df[\"Idade\"].astype(\"float\").astype(\"Int64\")"
   ]
  },
  {
   "cell_type": "code",
   "execution_count": 12,
   "id": "bbc90f89",
   "metadata": {},
   "outputs": [],
   "source": [
    "#Converter os dados não informados da coluna 'Idade' para nulos\n",
    "df.loc[df.Idade == 999, [\"Idade\"]] = pd.NA"
   ]
  },
  {
   "cell_type": "code",
   "execution_count": 13,
   "id": "fac32621",
   "metadata": {},
   "outputs": [
    {
     "data": {
      "text/plain": [
       "id                                         int64\n",
       "sexo                                      object\n",
       "idade                                     object\n",
       "raca                                      object\n",
       "etnia                                     object\n",
       "morbidades_previas                        object\n",
       "outras_morbidades_previas                 object\n",
       "evolucao                                  object\n",
       "data_inicio_primeiros_sintomas    datetime64[ns]\n",
       "data_notificacao                  datetime64[ns]\n",
       "data_obito                        datetime64[ns]\n",
       "classificacao_final                       object\n",
       "Idade                                      Int64\n",
       "dtype: object"
      ]
     },
     "execution_count": 13,
     "metadata": {},
     "output_type": "execute_result"
    }
   ],
   "source": [
    "df.dtypes"
   ]
  },
  {
   "cell_type": "code",
   "execution_count": 14,
   "id": "f6e986f4",
   "metadata": {},
   "outputs": [
    {
     "data": {
      "text/plain": [
       "id                                   0\n",
       "sexo                                 0\n",
       "idade                                0\n",
       "raca                              1291\n",
       "etnia                             5500\n",
       "morbidades_previas                3689\n",
       "outras_morbidades_previas         4520\n",
       "evolucao                           157\n",
       "data_inicio_primeiros_sintomas     195\n",
       "data_notificacao                     0\n",
       "data_obito                        4231\n",
       "classificacao_final                  0\n",
       "Idade                                3\n",
       "dtype: int64"
      ]
     },
     "execution_count": 14,
     "metadata": {},
     "output_type": "execute_result"
    }
   ],
   "source": [
    "#Total de dados nulos por coluna\n",
    "df.isna().sum()"
   ]
  },
  {
   "cell_type": "code",
   "execution_count": 15,
   "id": "1d531314",
   "metadata": {},
   "outputs": [],
   "source": [
    "#Validação dos dados\n",
    "schema = pa.DataFrameSchema(\n",
    "    columns = {\n",
    "        \"id\": pa.Column(pa.Int),\n",
    "        \"sexo\": pa.Column(pa.String),\n",
    "        \"idade\": pa.Column(pa.String, nullable=True),\n",
    "        \"raca\": pa.Column(pa.String, nullable=True),\n",
    "        \"etnia\": pa.Column(pa.String, nullable=True),\n",
    "        \"morbidades_previas\": pa.Column(pa.String, nullable=True),\n",
    "        \"outras_morbidades_previas\": pa.Column(pa.String, nullable=True),\n",
    "        \"evolucao\": pa.Column(pa.String, nullable=True),\n",
    "        \"data_inicio_primeiros_sintomas\": pa.Column(pa.DateTime, nullable=True),\n",
    "        \"data_notificacao\": pa.Column(pa.DateTime),\n",
    "        \"data_obito\": pa.Column(pa.DateTime, nullable=True),\n",
    "        \"classificacao_final\": pa.Column(pa.String),\n",
    "        \"Idade\": pa.Column(pa.Int, nullable=True)\n",
    "    }\n",
    ")"
   ]
  },
  {
   "cell_type": "code",
   "execution_count": 16,
   "id": "d49cbff7",
   "metadata": {},
   "outputs": [
    {
     "data": {
      "text/html": [
       "<div>\n",
       "<style scoped>\n",
       "    .dataframe tbody tr th:only-of-type {\n",
       "        vertical-align: middle;\n",
       "    }\n",
       "\n",
       "    .dataframe tbody tr th {\n",
       "        vertical-align: top;\n",
       "    }\n",
       "\n",
       "    .dataframe thead th {\n",
       "        text-align: right;\n",
       "    }\n",
       "</style>\n",
       "<table border=\"1\" class=\"dataframe\">\n",
       "  <thead>\n",
       "    <tr style=\"text-align: right;\">\n",
       "      <th></th>\n",
       "      <th>id</th>\n",
       "      <th>sexo</th>\n",
       "      <th>idade</th>\n",
       "      <th>raca</th>\n",
       "      <th>etnia</th>\n",
       "      <th>morbidades_previas</th>\n",
       "      <th>outras_morbidades_previas</th>\n",
       "      <th>evolucao</th>\n",
       "      <th>data_inicio_primeiros_sintomas</th>\n",
       "      <th>data_notificacao</th>\n",
       "      <th>data_obito</th>\n",
       "      <th>classificacao_final</th>\n",
       "      <th>Idade</th>\n",
       "    </tr>\n",
       "  </thead>\n",
       "  <tbody>\n",
       "    <tr>\n",
       "      <th>0</th>\n",
       "      <td>1</td>\n",
       "      <td>Masculino</td>\n",
       "      <td>9 meses</td>\n",
       "      <td>Ignorado</td>\n",
       "      <td>NaN</td>\n",
       "      <td>Doenças Respiratórias Crônicas</td>\n",
       "      <td>NaN</td>\n",
       "      <td>INTERNADO LEITO DE ISOLAMENTO</td>\n",
       "      <td>2021-02-24</td>\n",
       "      <td>2021-03-02</td>\n",
       "      <td>NaT</td>\n",
       "      <td>DESCARTADO</td>\n",
       "      <td>0</td>\n",
       "    </tr>\n",
       "    <tr>\n",
       "      <th>1</th>\n",
       "      <td>2</td>\n",
       "      <td>Feminino</td>\n",
       "      <td>46</td>\n",
       "      <td>Branca</td>\n",
       "      <td>NaN</td>\n",
       "      <td>NaN</td>\n",
       "      <td>NaN</td>\n",
       "      <td>INTERNADO LEITO DE ISOLAMENTO</td>\n",
       "      <td>2021-02-28</td>\n",
       "      <td>2021-03-03</td>\n",
       "      <td>NaT</td>\n",
       "      <td>EM ANÁLISE</td>\n",
       "      <td>46</td>\n",
       "    </tr>\n",
       "    <tr>\n",
       "      <th>2</th>\n",
       "      <td>3</td>\n",
       "      <td>Masculino</td>\n",
       "      <td>78</td>\n",
       "      <td>Branca</td>\n",
       "      <td>NaN</td>\n",
       "      <td>Doenças Cardíacas ou Vasculares, Doença Hepáti...</td>\n",
       "      <td>NaN</td>\n",
       "      <td>ÓBITO</td>\n",
       "      <td>2021-01-06</td>\n",
       "      <td>2021-01-08</td>\n",
       "      <td>2021-01-26</td>\n",
       "      <td>CONFIRMADO</td>\n",
       "      <td>78</td>\n",
       "    </tr>\n",
       "    <tr>\n",
       "      <th>3</th>\n",
       "      <td>4</td>\n",
       "      <td>Feminino</td>\n",
       "      <td>62</td>\n",
       "      <td>Parda</td>\n",
       "      <td>NaN</td>\n",
       "      <td>NaN</td>\n",
       "      <td>NaN</td>\n",
       "      <td>INTERNADO LEITO DE ISOLAMENTO</td>\n",
       "      <td>2021-02-23</td>\n",
       "      <td>2021-03-02</td>\n",
       "      <td>NaT</td>\n",
       "      <td>EM ANÁLISE</td>\n",
       "      <td>62</td>\n",
       "    </tr>\n",
       "    <tr>\n",
       "      <th>4</th>\n",
       "      <td>5</td>\n",
       "      <td>Masculino</td>\n",
       "      <td>26</td>\n",
       "      <td>Parda</td>\n",
       "      <td>NaN</td>\n",
       "      <td>NaN</td>\n",
       "      <td>NaN</td>\n",
       "      <td>INTERNADO LEITO DE ISOLAMENTO</td>\n",
       "      <td>2021-02-24</td>\n",
       "      <td>2021-03-01</td>\n",
       "      <td>NaT</td>\n",
       "      <td>DESCARTADO</td>\n",
       "      <td>26</td>\n",
       "    </tr>\n",
       "    <tr>\n",
       "      <th>...</th>\n",
       "      <td>...</td>\n",
       "      <td>...</td>\n",
       "      <td>...</td>\n",
       "      <td>...</td>\n",
       "      <td>...</td>\n",
       "      <td>...</td>\n",
       "      <td>...</td>\n",
       "      <td>...</td>\n",
       "      <td>...</td>\n",
       "      <td>...</td>\n",
       "      <td>...</td>\n",
       "      <td>...</td>\n",
       "      <td>...</td>\n",
       "    </tr>\n",
       "    <tr>\n",
       "      <th>5495</th>\n",
       "      <td>5496</td>\n",
       "      <td>Masculino</td>\n",
       "      <td>2 meses</td>\n",
       "      <td>Parda</td>\n",
       "      <td>NaN</td>\n",
       "      <td>NaN</td>\n",
       "      <td>NaN</td>\n",
       "      <td>INTERNADO LEITO DE ISOLAMENTO</td>\n",
       "      <td>2020-10-31</td>\n",
       "      <td>2020-11-04</td>\n",
       "      <td>NaT</td>\n",
       "      <td>DESCARTADO</td>\n",
       "      <td>0</td>\n",
       "    </tr>\n",
       "    <tr>\n",
       "      <th>5496</th>\n",
       "      <td>5497</td>\n",
       "      <td>Masculino</td>\n",
       "      <td>79</td>\n",
       "      <td>Parda</td>\n",
       "      <td>NaN</td>\n",
       "      <td>Doenças Respiratórias Crônicas, Diabetes</td>\n",
       "      <td>EX TABAGISTA</td>\n",
       "      <td>ÓBITO</td>\n",
       "      <td>NaT</td>\n",
       "      <td>2020-12-16</td>\n",
       "      <td>2020-11-19</td>\n",
       "      <td>CONFIRMADO</td>\n",
       "      <td>79</td>\n",
       "    </tr>\n",
       "    <tr>\n",
       "      <th>5497</th>\n",
       "      <td>5498</td>\n",
       "      <td>Masculino</td>\n",
       "      <td>79</td>\n",
       "      <td>Parda</td>\n",
       "      <td>NaN</td>\n",
       "      <td>Doenças Cardíacas ou Vasculares</td>\n",
       "      <td>NaN</td>\n",
       "      <td>INTERNADO LEITO DE ISOLAMENTO</td>\n",
       "      <td>2020-12-14</td>\n",
       "      <td>2020-12-17</td>\n",
       "      <td>NaT</td>\n",
       "      <td>EM ANÁLISE</td>\n",
       "      <td>79</td>\n",
       "    </tr>\n",
       "    <tr>\n",
       "      <th>5498</th>\n",
       "      <td>5499</td>\n",
       "      <td>Masculino</td>\n",
       "      <td>44</td>\n",
       "      <td>Parda</td>\n",
       "      <td>NaN</td>\n",
       "      <td>Doenças Cardíacas ou Vasculares, Sobrepeso/Obe...</td>\n",
       "      <td>NaN</td>\n",
       "      <td>INTERNADO LEITO DE ISOLAMENTO</td>\n",
       "      <td>2020-11-29</td>\n",
       "      <td>2020-12-01</td>\n",
       "      <td>NaT</td>\n",
       "      <td>DESCARTADO</td>\n",
       "      <td>44</td>\n",
       "    </tr>\n",
       "    <tr>\n",
       "      <th>5499</th>\n",
       "      <td>5500</td>\n",
       "      <td>Masculino</td>\n",
       "      <td>58</td>\n",
       "      <td>Parda</td>\n",
       "      <td>NaN</td>\n",
       "      <td>NaN</td>\n",
       "      <td>HAS</td>\n",
       "      <td>ÓBITO</td>\n",
       "      <td>2020-11-28</td>\n",
       "      <td>2020-12-02</td>\n",
       "      <td>2020-12-08</td>\n",
       "      <td>DESCARTADO</td>\n",
       "      <td>58</td>\n",
       "    </tr>\n",
       "  </tbody>\n",
       "</table>\n",
       "<p>5500 rows × 13 columns</p>\n",
       "</div>"
      ],
      "text/plain": [
       "        id       sexo    idade      raca etnia  \\\n",
       "0        1  Masculino  9 meses  Ignorado   NaN   \n",
       "1        2   Feminino       46    Branca   NaN   \n",
       "2        3  Masculino       78    Branca   NaN   \n",
       "3        4   Feminino       62     Parda   NaN   \n",
       "4        5  Masculino       26     Parda   NaN   \n",
       "...    ...        ...      ...       ...   ...   \n",
       "5495  5496  Masculino  2 meses     Parda   NaN   \n",
       "5496  5497  Masculino       79     Parda   NaN   \n",
       "5497  5498  Masculino       79     Parda   NaN   \n",
       "5498  5499  Masculino       44     Parda   NaN   \n",
       "5499  5500  Masculino       58     Parda   NaN   \n",
       "\n",
       "                                     morbidades_previas  \\\n",
       "0                        Doenças Respiratórias Crônicas   \n",
       "1                                                   NaN   \n",
       "2     Doenças Cardíacas ou Vasculares, Doença Hepáti...   \n",
       "3                                                   NaN   \n",
       "4                                                   NaN   \n",
       "...                                                 ...   \n",
       "5495                                                NaN   \n",
       "5496           Doenças Respiratórias Crônicas, Diabetes   \n",
       "5497                    Doenças Cardíacas ou Vasculares   \n",
       "5498  Doenças Cardíacas ou Vasculares, Sobrepeso/Obe...   \n",
       "5499                                                NaN   \n",
       "\n",
       "     outras_morbidades_previas                       evolucao  \\\n",
       "0                          NaN  INTERNADO LEITO DE ISOLAMENTO   \n",
       "1                          NaN  INTERNADO LEITO DE ISOLAMENTO   \n",
       "2                          NaN                          ÓBITO   \n",
       "3                          NaN  INTERNADO LEITO DE ISOLAMENTO   \n",
       "4                          NaN  INTERNADO LEITO DE ISOLAMENTO   \n",
       "...                        ...                            ...   \n",
       "5495                       NaN  INTERNADO LEITO DE ISOLAMENTO   \n",
       "5496              EX TABAGISTA                          ÓBITO   \n",
       "5497                       NaN  INTERNADO LEITO DE ISOLAMENTO   \n",
       "5498                       NaN  INTERNADO LEITO DE ISOLAMENTO   \n",
       "5499                       HAS                          ÓBITO   \n",
       "\n",
       "     data_inicio_primeiros_sintomas data_notificacao data_obito  \\\n",
       "0                        2021-02-24       2021-03-02        NaT   \n",
       "1                        2021-02-28       2021-03-03        NaT   \n",
       "2                        2021-01-06       2021-01-08 2021-01-26   \n",
       "3                        2021-02-23       2021-03-02        NaT   \n",
       "4                        2021-02-24       2021-03-01        NaT   \n",
       "...                             ...              ...        ...   \n",
       "5495                     2020-10-31       2020-11-04        NaT   \n",
       "5496                            NaT       2020-12-16 2020-11-19   \n",
       "5497                     2020-12-14       2020-12-17        NaT   \n",
       "5498                     2020-11-29       2020-12-01        NaT   \n",
       "5499                     2020-11-28       2020-12-02 2020-12-08   \n",
       "\n",
       "     classificacao_final  Idade  \n",
       "0             DESCARTADO      0  \n",
       "1             EM ANÁLISE     46  \n",
       "2             CONFIRMADO     78  \n",
       "3             EM ANÁLISE     62  \n",
       "4             DESCARTADO     26  \n",
       "...                  ...    ...  \n",
       "5495          DESCARTADO      0  \n",
       "5496          CONFIRMADO     79  \n",
       "5497          EM ANÁLISE     79  \n",
       "5498          DESCARTADO     44  \n",
       "5499          DESCARTADO     58  \n",
       "\n",
       "[5500 rows x 13 columns]"
      ]
     },
     "execution_count": 16,
     "metadata": {},
     "output_type": "execute_result"
    }
   ],
   "source": [
    "schema.validate(df)"
   ]
  },
  {
   "cell_type": "code",
   "execution_count": 17,
   "id": "39d76aa9",
   "metadata": {},
   "outputs": [
    {
     "data": {
      "text/html": [
       "<div>\n",
       "<style scoped>\n",
       "    .dataframe tbody tr th:only-of-type {\n",
       "        vertical-align: middle;\n",
       "    }\n",
       "\n",
       "    .dataframe tbody tr th {\n",
       "        vertical-align: top;\n",
       "    }\n",
       "\n",
       "    .dataframe thead th {\n",
       "        text-align: right;\n",
       "    }\n",
       "</style>\n",
       "<table border=\"1\" class=\"dataframe\">\n",
       "  <thead>\n",
       "    <tr style=\"text-align: right;\">\n",
       "      <th></th>\n",
       "      <th>id</th>\n",
       "      <th>Idade</th>\n",
       "    </tr>\n",
       "  </thead>\n",
       "  <tbody>\n",
       "    <tr>\n",
       "      <th>count</th>\n",
       "      <td>5500.000000</td>\n",
       "      <td>5497.000000</td>\n",
       "    </tr>\n",
       "    <tr>\n",
       "      <th>mean</th>\n",
       "      <td>2750.500000</td>\n",
       "      <td>52.140440</td>\n",
       "    </tr>\n",
       "    <tr>\n",
       "      <th>std</th>\n",
       "      <td>1587.857571</td>\n",
       "      <td>22.791391</td>\n",
       "    </tr>\n",
       "    <tr>\n",
       "      <th>min</th>\n",
       "      <td>1.000000</td>\n",
       "      <td>0.000000</td>\n",
       "    </tr>\n",
       "    <tr>\n",
       "      <th>25%</th>\n",
       "      <td>1375.750000</td>\n",
       "      <td>38.000000</td>\n",
       "    </tr>\n",
       "    <tr>\n",
       "      <th>50%</th>\n",
       "      <td>2750.500000</td>\n",
       "      <td>54.000000</td>\n",
       "    </tr>\n",
       "    <tr>\n",
       "      <th>75%</th>\n",
       "      <td>4125.250000</td>\n",
       "      <td>69.000000</td>\n",
       "    </tr>\n",
       "    <tr>\n",
       "      <th>max</th>\n",
       "      <td>5500.000000</td>\n",
       "      <td>114.000000</td>\n",
       "    </tr>\n",
       "  </tbody>\n",
       "</table>\n",
       "</div>"
      ],
      "text/plain": [
       "                id        Idade\n",
       "count  5500.000000  5497.000000\n",
       "mean   2750.500000    52.140440\n",
       "std    1587.857571    22.791391\n",
       "min       1.000000     0.000000\n",
       "25%    1375.750000    38.000000\n",
       "50%    2750.500000    54.000000\n",
       "75%    4125.250000    69.000000\n",
       "max    5500.000000   114.000000"
      ]
     },
     "execution_count": 17,
     "metadata": {},
     "output_type": "execute_result"
    }
   ],
   "source": [
    "#Dados estatísticos\n",
    "df.describe()"
   ]
  },
  {
   "cell_type": "code",
   "execution_count": 18,
   "id": "0a06388f",
   "metadata": {},
   "outputs": [
    {
     "data": {
      "text/plain": [
       "52.14044024013098"
      ]
     },
     "execution_count": 18,
     "metadata": {},
     "output_type": "execute_result"
    }
   ],
   "source": [
    "#Média de idade dos enfermos\n",
    "df.Idade.mean()"
   ]
  },
  {
   "cell_type": "code",
   "execution_count": 19,
   "id": "2e327f96",
   "metadata": {},
   "outputs": [
    {
     "data": {
      "text/plain": [
       "114"
      ]
     },
     "execution_count": 19,
     "metadata": {},
     "output_type": "execute_result"
    }
   ],
   "source": [
    "#Idade do enfermo mais velho\n",
    "df.Idade.max()"
   ]
  },
  {
   "cell_type": "code",
   "execution_count": 20,
   "id": "ec19745a",
   "metadata": {},
   "outputs": [
    {
     "data": {
      "text/plain": [
       "0"
      ]
     },
     "execution_count": 20,
     "metadata": {},
     "output_type": "execute_result"
    }
   ],
   "source": [
    "#Idade do enfermo mais novo\n",
    "df.Idade.min() #Menos de 1 ano"
   ]
  },
  {
   "cell_type": "code",
   "execution_count": 21,
   "id": "c233f0d7",
   "metadata": {},
   "outputs": [
    {
     "data": {
      "text/html": [
       "<div>\n",
       "<style scoped>\n",
       "    .dataframe tbody tr th:only-of-type {\n",
       "        vertical-align: middle;\n",
       "    }\n",
       "\n",
       "    .dataframe tbody tr th {\n",
       "        vertical-align: top;\n",
       "    }\n",
       "\n",
       "    .dataframe thead th {\n",
       "        text-align: right;\n",
       "    }\n",
       "</style>\n",
       "<table border=\"1\" class=\"dataframe\">\n",
       "  <thead>\n",
       "    <tr style=\"text-align: right;\">\n",
       "      <th></th>\n",
       "      <th>id</th>\n",
       "      <th>sexo</th>\n",
       "      <th>idade</th>\n",
       "      <th>raca</th>\n",
       "      <th>etnia</th>\n",
       "      <th>morbidades_previas</th>\n",
       "      <th>outras_morbidades_previas</th>\n",
       "      <th>evolucao</th>\n",
       "      <th>data_inicio_primeiros_sintomas</th>\n",
       "      <th>data_notificacao</th>\n",
       "      <th>data_obito</th>\n",
       "      <th>classificacao_final</th>\n",
       "      <th>Idade</th>\n",
       "    </tr>\n",
       "  </thead>\n",
       "  <tbody>\n",
       "    <tr>\n",
       "      <th>4540</th>\n",
       "      <td>4541</td>\n",
       "      <td>Feminino</td>\n",
       "      <td>114</td>\n",
       "      <td>Parda</td>\n",
       "      <td>NaN</td>\n",
       "      <td>NaN</td>\n",
       "      <td>NaN</td>\n",
       "      <td>ÓBITO</td>\n",
       "      <td>2021-03-08</td>\n",
       "      <td>2021-03-18</td>\n",
       "      <td>2021-03-15</td>\n",
       "      <td>CONFIRMADO</td>\n",
       "      <td>114</td>\n",
       "    </tr>\n",
       "    <tr>\n",
       "      <th>3291</th>\n",
       "      <td>3292</td>\n",
       "      <td>Feminino</td>\n",
       "      <td>107</td>\n",
       "      <td>Parda</td>\n",
       "      <td>NaN</td>\n",
       "      <td>NaN</td>\n",
       "      <td>AVC PRÉVIO, HAS</td>\n",
       "      <td>ÓBITO</td>\n",
       "      <td>2020-06-25</td>\n",
       "      <td>2020-07-01</td>\n",
       "      <td>2020-07-08</td>\n",
       "      <td>DESCARTADO</td>\n",
       "      <td>107</td>\n",
       "    </tr>\n",
       "    <tr>\n",
       "      <th>690</th>\n",
       "      <td>691</td>\n",
       "      <td>Feminino</td>\n",
       "      <td>103</td>\n",
       "      <td>Branca</td>\n",
       "      <td>NaN</td>\n",
       "      <td>NaN</td>\n",
       "      <td>NaN</td>\n",
       "      <td>INTERNADO LEITO DE ISOLAMENTO</td>\n",
       "      <td>2021-04-30</td>\n",
       "      <td>2021-05-05</td>\n",
       "      <td>NaT</td>\n",
       "      <td>DESCARTADO</td>\n",
       "      <td>103</td>\n",
       "    </tr>\n",
       "  </tbody>\n",
       "</table>\n",
       "</div>"
      ],
      "text/plain": [
       "        id      sexo idade    raca etnia morbidades_previas  \\\n",
       "4540  4541  Feminino   114   Parda   NaN                NaN   \n",
       "3291  3292  Feminino   107   Parda   NaN                NaN   \n",
       "690    691  Feminino   103  Branca   NaN                NaN   \n",
       "\n",
       "     outras_morbidades_previas                       evolucao  \\\n",
       "4540                       NaN                          ÓBITO   \n",
       "3291           AVC PRÉVIO, HAS                          ÓBITO   \n",
       "690                        NaN  INTERNADO LEITO DE ISOLAMENTO   \n",
       "\n",
       "     data_inicio_primeiros_sintomas data_notificacao data_obito  \\\n",
       "4540                     2021-03-08       2021-03-18 2021-03-15   \n",
       "3291                     2020-06-25       2020-07-01 2020-07-08   \n",
       "690                      2021-04-30       2021-05-05        NaT   \n",
       "\n",
       "     classificacao_final  Idade  \n",
       "4540          CONFIRMADO    114  \n",
       "3291          DESCARTADO    107  \n",
       "690           DESCARTADO    103  "
      ]
     },
     "execution_count": 21,
     "metadata": {},
     "output_type": "execute_result"
    }
   ],
   "source": [
    "#Registro dos 3 enfermos mais velhos\n",
    "df.nlargest(3, \"Idade\")"
   ]
  },
  {
   "cell_type": "code",
   "execution_count": 22,
   "id": "98f5daf0",
   "metadata": {},
   "outputs": [
    {
     "data": {
      "text/html": [
       "<div>\n",
       "<style scoped>\n",
       "    .dataframe tbody tr th:only-of-type {\n",
       "        vertical-align: middle;\n",
       "    }\n",
       "\n",
       "    .dataframe tbody tr th {\n",
       "        vertical-align: top;\n",
       "    }\n",
       "\n",
       "    .dataframe thead th {\n",
       "        text-align: right;\n",
       "    }\n",
       "</style>\n",
       "<table border=\"1\" class=\"dataframe\">\n",
       "  <thead>\n",
       "    <tr style=\"text-align: right;\">\n",
       "      <th></th>\n",
       "      <th>id</th>\n",
       "      <th>sexo</th>\n",
       "      <th>idade</th>\n",
       "      <th>raca</th>\n",
       "      <th>etnia</th>\n",
       "      <th>morbidades_previas</th>\n",
       "      <th>outras_morbidades_previas</th>\n",
       "      <th>evolucao</th>\n",
       "      <th>data_inicio_primeiros_sintomas</th>\n",
       "      <th>data_notificacao</th>\n",
       "      <th>data_obito</th>\n",
       "      <th>classificacao_final</th>\n",
       "      <th>Idade</th>\n",
       "    </tr>\n",
       "  </thead>\n",
       "  <tbody>\n",
       "    <tr>\n",
       "      <th>0</th>\n",
       "      <td>1</td>\n",
       "      <td>Masculino</td>\n",
       "      <td>9 meses</td>\n",
       "      <td>Ignorado</td>\n",
       "      <td>NaN</td>\n",
       "      <td>Doenças Respiratórias Crônicas</td>\n",
       "      <td>NaN</td>\n",
       "      <td>INTERNADO LEITO DE ISOLAMENTO</td>\n",
       "      <td>2021-02-24</td>\n",
       "      <td>2021-03-02</td>\n",
       "      <td>NaT</td>\n",
       "      <td>DESCARTADO</td>\n",
       "      <td>0</td>\n",
       "    </tr>\n",
       "    <tr>\n",
       "      <th>37</th>\n",
       "      <td>38</td>\n",
       "      <td>Feminino</td>\n",
       "      <td>6 meses</td>\n",
       "      <td>Parda</td>\n",
       "      <td>NaN</td>\n",
       "      <td>NaN</td>\n",
       "      <td>NaN</td>\n",
       "      <td>INTERNADO LEITO DE ISOLAMENTO</td>\n",
       "      <td>2021-02-09</td>\n",
       "      <td>2021-02-17</td>\n",
       "      <td>NaT</td>\n",
       "      <td>DESCARTADO</td>\n",
       "      <td>0</td>\n",
       "    </tr>\n",
       "    <tr>\n",
       "      <th>108</th>\n",
       "      <td>109</td>\n",
       "      <td>Feminino</td>\n",
       "      <td>1 mês</td>\n",
       "      <td>Parda</td>\n",
       "      <td>NaN</td>\n",
       "      <td>NaN</td>\n",
       "      <td>NaN</td>\n",
       "      <td>INTERNADO LEITO DE ISOLAMENTO</td>\n",
       "      <td>2021-03-10</td>\n",
       "      <td>2021-03-15</td>\n",
       "      <td>NaT</td>\n",
       "      <td>DESCARTADO</td>\n",
       "      <td>0</td>\n",
       "    </tr>\n",
       "  </tbody>\n",
       "</table>\n",
       "</div>"
      ],
      "text/plain": [
       "      id       sexo    idade      raca etnia              morbidades_previas  \\\n",
       "0      1  Masculino  9 meses  Ignorado   NaN  Doenças Respiratórias Crônicas   \n",
       "37    38   Feminino  6 meses     Parda   NaN                             NaN   \n",
       "108  109   Feminino    1 mês     Parda   NaN                             NaN   \n",
       "\n",
       "    outras_morbidades_previas                       evolucao  \\\n",
       "0                         NaN  INTERNADO LEITO DE ISOLAMENTO   \n",
       "37                        NaN  INTERNADO LEITO DE ISOLAMENTO   \n",
       "108                       NaN  INTERNADO LEITO DE ISOLAMENTO   \n",
       "\n",
       "    data_inicio_primeiros_sintomas data_notificacao data_obito  \\\n",
       "0                       2021-02-24       2021-03-02        NaT   \n",
       "37                      2021-02-09       2021-02-17        NaT   \n",
       "108                     2021-03-10       2021-03-15        NaT   \n",
       "\n",
       "    classificacao_final  Idade  \n",
       "0            DESCARTADO      0  \n",
       "37           DESCARTADO      0  \n",
       "108          DESCARTADO      0  "
      ]
     },
     "execution_count": 22,
     "metadata": {},
     "output_type": "execute_result"
    }
   ],
   "source": [
    "#Registro dos 3 enfermos mais novos\n",
    "df.nsmallest(3, \"Idade\")"
   ]
  },
  {
   "cell_type": "code",
   "execution_count": 23,
   "id": "c914c63b",
   "metadata": {},
   "outputs": [
    {
     "data": {
      "text/plain": [
       "Idade\n",
       "True      123\n",
       "False    5374\n",
       "Name: id, dtype: int64"
      ]
     },
     "execution_count": 23,
     "metadata": {},
     "output_type": "execute_result"
    }
   ],
   "source": [
    "#Quantidade de enfermos com menos de 1 ano de vida ou não informado\n",
    "df.groupby(df.Idade == 0)[\"id\"].count().sort_values(ascending=True)"
   ]
  },
  {
   "cell_type": "code",
   "execution_count": 24,
   "id": "2b2c0795",
   "metadata": {},
   "outputs": [
    {
     "data": {
      "text/plain": [
       "array(['Masculino', 'Feminino', 'Ignorado'], dtype=object)"
      ]
     },
     "execution_count": 24,
     "metadata": {},
     "output_type": "execute_result"
    }
   ],
   "source": [
    "#Atributos da coluna 'sexo'\n",
    "df[\"sexo\"].unique()"
   ]
  },
  {
   "cell_type": "code",
   "execution_count": 25,
   "id": "a60f5c84",
   "metadata": {},
   "outputs": [
    {
     "data": {
      "text/plain": [
       "array(['Ignorado', 'Branca', 'Parda', 'Preta', nan, 'Amarela', 'Indígena'],\n",
       "      dtype=object)"
      ]
     },
     "execution_count": 25,
     "metadata": {},
     "output_type": "execute_result"
    }
   ],
   "source": [
    "#Atributos da coluna 'raca'\n",
    "df[\"raca\"].unique()"
   ]
  },
  {
   "cell_type": "code",
   "execution_count": 26,
   "id": "951f5759",
   "metadata": {},
   "outputs": [
    {
     "data": {
      "text/plain": [
       "array(['INTERNADO LEITO DE ISOLAMENTO', 'ÓBITO', 'RECUPERADO', nan,\n",
       "       'INTERNADO UTI', 'ISOLAMENTO DOMICILIAR'], dtype=object)"
      ]
     },
     "execution_count": 26,
     "metadata": {},
     "output_type": "execute_result"
    }
   ],
   "source": [
    "#Atributos da coluna 'evolucao'\n",
    "df[\"evolucao\"].unique()"
   ]
  },
  {
   "cell_type": "code",
   "execution_count": 27,
   "id": "1af4cbd4",
   "metadata": {},
   "outputs": [
    {
     "data": {
      "text/plain": [
       "array(['DESCARTADO', 'EM ANÁLISE', 'CONFIRMADO', 'INCONCLUSIVO'],\n",
       "      dtype=object)"
      ]
     },
     "execution_count": 27,
     "metadata": {},
     "output_type": "execute_result"
    }
   ],
   "source": [
    "#Atributos da coluna 'classificao_final'\n",
    "df[\"classificacao_final\"].unique()"
   ]
  },
  {
   "cell_type": "code",
   "execution_count": 28,
   "id": "b7870cf2",
   "metadata": {},
   "outputs": [
    {
     "data": {
      "text/plain": [
       "sexo\n",
       "Feminino     52.888089\n",
       "Masculino    51.394921\n",
       "Ignorado           0.0\n",
       "Name: Idade, dtype: Float64"
      ]
     },
     "execution_count": 28,
     "metadata": {},
     "output_type": "execute_result"
    }
   ],
   "source": [
    "#Média de idade por gênero\n",
    "df.groupby(\"sexo\")[\"Idade\"].mean().sort_values(ascending=False)"
   ]
  },
  {
   "cell_type": "code",
   "execution_count": 29,
   "id": "0f642720",
   "metadata": {},
   "outputs": [
    {
     "data": {
      "text/plain": [
       "raca\n",
       "Branca      60.404412\n",
       "Preta       56.954248\n",
       "Ignorado    55.266245\n",
       "Parda       52.097295\n",
       "Amarela     50.304348\n",
       "Indígena         50.0\n",
       "Name: Idade, dtype: Float64"
      ]
     },
     "execution_count": 29,
     "metadata": {},
     "output_type": "execute_result"
    }
   ],
   "source": [
    "#Média de idade por raca\n",
    "df.groupby(\"raca\")[\"Idade\"].mean().sort_values(ascending=False)"
   ]
  },
  {
   "cell_type": "code",
   "execution_count": 30,
   "id": "324a9606",
   "metadata": {},
   "outputs": [
    {
     "data": {
      "text/plain": [
       "evolucao\n",
       "ÓBITO                            68.229314\n",
       "INTERNADO UTI                    58.283582\n",
       "RECUPERADO                       50.415254\n",
       "INTERNADO LEITO DE ISOLAMENTO    46.089651\n",
       "ISOLAMENTO DOMICILIAR            40.096828\n",
       "Name: Idade, dtype: Float64"
      ]
     },
     "execution_count": 30,
     "metadata": {},
     "output_type": "execute_result"
    }
   ],
   "source": [
    "#Média de idade por quadros de evolução\n",
    "df.groupby(\"evolucao\")[\"Idade\"].mean().sort_values(ascending=False)"
   ]
  },
  {
   "cell_type": "code",
   "execution_count": 31,
   "id": "cedff434",
   "metadata": {},
   "outputs": [
    {
     "data": {
      "text/plain": [
       "classificacao_final\n",
       "CONFIRMADO      56.232367\n",
       "EM ANÁLISE      49.166008\n",
       "INCONCLUSIVO    48.754854\n",
       "DESCARTADO      47.588524\n",
       "Name: Idade, dtype: Float64"
      ]
     },
     "execution_count": 31,
     "metadata": {},
     "output_type": "execute_result"
    }
   ],
   "source": [
    "#Média de idade por classificação final\n",
    "df.groupby(\"classificacao_final\")[\"Idade\"].mean().sort_values(ascending=False)"
   ]
  },
  {
   "cell_type": "code",
   "execution_count": 32,
   "id": "67a23f9e",
   "metadata": {},
   "outputs": [
    {
     "data": {
      "text/plain": [
       "sexo\n",
       "Feminino     2780\n",
       "Masculino    2719\n",
       "Ignorado        1\n",
       "Name: id, dtype: int64"
      ]
     },
     "execution_count": 32,
     "metadata": {},
     "output_type": "execute_result"
    }
   ],
   "source": [
    "#Enfermos por gênero\n",
    "df.groupby(\"sexo\")[\"id\"].count().sort_values(ascending=False)"
   ]
  },
  {
   "cell_type": "code",
   "execution_count": 33,
   "id": "ba909db0",
   "metadata": {},
   "outputs": [
    {
     "data": {
      "text/plain": [
       "raca\n",
       "Parda       2107\n",
       "Ignorado    1108\n",
       "Branca       816\n",
       "Preta        153\n",
       "Amarela       23\n",
       "Indígena       2\n",
       "Name: id, dtype: int64"
      ]
     },
     "execution_count": 33,
     "metadata": {},
     "output_type": "execute_result"
    }
   ],
   "source": [
    "#Enfermos por raca\n",
    "df.groupby(\"raca\")[\"id\"].count().sort_values(ascending=False)"
   ]
  },
  {
   "cell_type": "code",
   "execution_count": 34,
   "id": "a0738762",
   "metadata": {},
   "outputs": [
    {
     "data": {
      "text/plain": [
       "evolucao\n",
       "RECUPERADO                       1888\n",
       "INTERNADO LEITO DE ISOLAMENTO    1517\n",
       "ÓBITO                            1269\n",
       "ISOLAMENTO DOMICILIAR             602\n",
       "INTERNADO UTI                      67\n",
       "Name: id, dtype: int64"
      ]
     },
     "execution_count": 34,
     "metadata": {},
     "output_type": "execute_result"
    }
   ],
   "source": [
    "#Enfermos por evolução\n",
    "#df.groupby(\"evolucao\")[\"id\"].nunique().sort_values(ascending=False)\n",
    "df.groupby(\"evolucao\")[\"id\"].count().sort_values(ascending=False)"
   ]
  },
  {
   "cell_type": "code",
   "execution_count": 35,
   "id": "91a61aa4",
   "metadata": {},
   "outputs": [
    {
     "data": {
      "text/plain": [
       "classificacao_final\n",
       "CONFIRMADO      2793\n",
       "DESCARTADO      2041\n",
       "INCONCLUSIVO     413\n",
       "EM ANÁLISE       253\n",
       "Name: id, dtype: int64"
      ]
     },
     "execution_count": 35,
     "metadata": {},
     "output_type": "execute_result"
    }
   ],
   "source": [
    "#Enfermos por classificação final\n",
    "df.groupby(\"classificacao_final\")[\"id\"].count().sort_values(ascending=False)"
   ]
  },
  {
   "cell_type": "code",
   "execution_count": 36,
   "id": "6f700609",
   "metadata": {},
   "outputs": [
    {
     "data": {
      "text/plain": [
       "sexo\n",
       "Masculino    930\n",
       "Feminino     881\n",
       "Ignorado       0\n",
       "Name: morbidades_previas, dtype: int64"
      ]
     },
     "execution_count": 36,
     "metadata": {},
     "output_type": "execute_result"
    }
   ],
   "source": [
    "#Morbidades prévias por gênero\n",
    "df.groupby(\"sexo\")[\"morbidades_previas\"].count().sort_values(ascending=False)"
   ]
  },
  {
   "cell_type": "code",
   "execution_count": 37,
   "id": "3a82d644",
   "metadata": {},
   "outputs": [
    {
     "data": {
      "text/plain": [
       "raca\n",
       "Parda       899\n",
       "Branca      397\n",
       "Ignorado    385\n",
       "Preta        74\n",
       "Amarela       9\n",
       "Indígena      0\n",
       "Name: morbidades_previas, dtype: int64"
      ]
     },
     "execution_count": 37,
     "metadata": {},
     "output_type": "execute_result"
    }
   ],
   "source": [
    "#Morbidades prévias por raça\n",
    "df.groupby(\"raca\")[\"morbidades_previas\"].count().sort_values(ascending=False)"
   ]
  },
  {
   "cell_type": "code",
   "execution_count": 38,
   "id": "af010d16",
   "metadata": {},
   "outputs": [
    {
     "data": {
      "text/plain": [
       "sexo\n",
       "Masculino    682\n",
       "Feminino     587\n",
       "Ignorado       0\n",
       "Name: data_obito, dtype: int64"
      ]
     },
     "execution_count": 38,
     "metadata": {},
     "output_type": "execute_result"
    }
   ],
   "source": [
    "#Óbitos por gênero\n",
    "df.groupby(\"sexo\")[\"data_obito\"].count().sort_values(ascending=False)"
   ]
  },
  {
   "cell_type": "code",
   "execution_count": 39,
   "id": "596b8c68",
   "metadata": {},
   "outputs": [
    {
     "data": {
      "text/plain": [
       "raca\n",
       "Parda       678\n",
       "Branca      380\n",
       "Ignorado     93\n",
       "Preta        66\n",
       "Amarela       6\n",
       "Indígena      0\n",
       "Name: data_obito, dtype: int64"
      ]
     },
     "execution_count": 39,
     "metadata": {},
     "output_type": "execute_result"
    }
   ],
   "source": [
    "#Óbitos por raça\n",
    "df.groupby(\"raca\")[\"data_obito\"].count().sort_values(ascending=False)"
   ]
  },
  {
   "cell_type": "code",
   "execution_count": 40,
   "id": "42b04b8b",
   "metadata": {},
   "outputs": [
    {
     "data": {
      "text/plain": [
       "morbidades_previas\n",
       "True     363\n",
       "False    405\n",
       "Name: data_obito, dtype: int64"
      ]
     },
     "execution_count": 40,
     "metadata": {},
     "output_type": "execute_result"
    }
   ],
   "source": [
    "#Óbitos por diabetes\n",
    "df.groupby(df.morbidades_previas.str.contains(\"Diabetes\"))[\"data_obito\"].count().sort_values(ascending=True)"
   ]
  },
  {
   "cell_type": "code",
   "execution_count": 41,
   "id": "86d03bf3",
   "metadata": {},
   "outputs": [
    {
     "data": {
      "text/plain": [
       "morbidades_previas\n",
       "True     571\n",
       "False    197\n",
       "Name: data_obito, dtype: int64"
      ]
     },
     "execution_count": 41,
     "metadata": {},
     "output_type": "execute_result"
    }
   ],
   "source": [
    "#Óbitos por doenças cardíacas ou vasculares\n",
    "df.groupby(df.morbidades_previas.str.contains(\"Doenças Cardíacas ou Vasculares\"))[\"data_obito\"].count().sort_values(ascending=False)"
   ]
  },
  {
   "cell_type": "code",
   "execution_count": 42,
   "id": "50e1fd71",
   "metadata": {},
   "outputs": [
    {
     "data": {
      "text/plain": [
       "morbidades_previas\n",
       "True      90\n",
       "False    678\n",
       "Name: data_obito, dtype: int64"
      ]
     },
     "execution_count": 42,
     "metadata": {},
     "output_type": "execute_result"
    }
   ],
   "source": [
    "#Óbitos por doenças respiratórias crônicas\n",
    "df.groupby(df.morbidades_previas.str.contains(\"Doenças Respiratórias Crônicas\"))[\"data_obito\"].count().sort_values(ascending=True)"
   ]
  },
  {
   "cell_type": "code",
   "execution_count": 43,
   "id": "053253f6",
   "metadata": {},
   "outputs": [
    {
     "data": {
      "text/plain": [
       "outras_morbidades_previas\n",
       "True      45\n",
       "False    433\n",
       "Name: data_obito, dtype: int64"
      ]
     },
     "execution_count": 43,
     "metadata": {},
     "output_type": "execute_result"
    }
   ],
   "source": [
    "#Óbitos por tabagistas ou ex-tabagistas\n",
    "df.groupby(df.outras_morbidades_previas.str.contains(\"TABAGISTA|Tabagista\"))[\"data_obito\"].count().sort_values(ascending=True)"
   ]
  },
  {
   "cell_type": "code",
   "execution_count": 44,
   "id": "e0029fbd",
   "metadata": {},
   "outputs": [
    {
     "data": {
      "text/plain": [
       "outras_morbidades_previas\n",
       "True      12\n",
       "False    466\n",
       "Name: data_obito, dtype: int64"
      ]
     },
     "execution_count": 44,
     "metadata": {},
     "output_type": "execute_result"
    }
   ],
   "source": [
    "#Óbitos por hipertensão\n",
    "df.groupby(df.outras_morbidades_previas.str.contains(\"HIPERTENSÃO|hipertensão\"))[\"data_obito\"].count().sort_values(ascending=True)"
   ]
  },
  {
   "cell_type": "code",
   "execution_count": 45,
   "id": "eb5dba41",
   "metadata": {},
   "outputs": [
    {
     "data": {
      "text/plain": [
       "outras_morbidades_previas\n",
       "True      13\n",
       "False    465\n",
       "Name: data_obito, dtype: int64"
      ]
     },
     "execution_count": 45,
     "metadata": {},
     "output_type": "execute_result"
    }
   ],
   "source": [
    "#Óbitos por obesidade\n",
    "df.groupby(df.outras_morbidades_previas.str.contains(\"OBESIDADE|Obesidade\"))[\"data_obito\"].count().sort_values(ascending=True)"
   ]
  },
  {
   "cell_type": "code",
   "execution_count": 46,
   "id": "033dc867",
   "metadata": {},
   "outputs": [
    {
     "data": {
      "text/plain": [
       "outras_morbidades_previas\n",
       "True       5\n",
       "False    473\n",
       "Name: data_obito, dtype: int64"
      ]
     },
     "execution_count": 46,
     "metadata": {},
     "output_type": "execute_result"
    }
   ],
   "source": [
    "#Óbitos por turbeculose\n",
    "df.groupby(df.outras_morbidades_previas.str.contains(\"TUBERCULOSE|Tuberculose\"))[\"data_obito\"].count().sort_values(ascending=True)"
   ]
  },
  {
   "cell_type": "code",
   "execution_count": 47,
   "id": "cc3cd7be",
   "metadata": {},
   "outputs": [
    {
     "data": {
      "text/plain": [
       "RECUPERADO                       1888\n",
       "INTERNADO LEITO DE ISOLAMENTO    1517\n",
       "ÓBITO                            1269\n",
       "ISOLAMENTO DOMICILIAR             602\n",
       "INTERNADO UTI                      67\n",
       "Name: evolucao, dtype: int64"
      ]
     },
     "execution_count": 47,
     "metadata": {},
     "output_type": "execute_result"
    }
   ],
   "source": [
    "#Enfermos por evolução\n",
    "df[\"evolucao\"].value_counts(ascending=False)"
   ]
  },
  {
   "cell_type": "code",
   "execution_count": 48,
   "id": "43884559",
   "metadata": {},
   "outputs": [
    {
     "data": {
      "image/png": "[encoded data removed]",
      "text/plain": [
       "<Figure size 432x288 with 1 Axes>"
      ]
     },
     "metadata": {
      "needs_background": "light"
     },
     "output_type": "display_data"
    }
   ],
   "source": [
    "#Gráfico da quantidade de enfermos por evolução\n",
    "df[\"evolucao\"].value_counts(ascending=True).plot.barh(title=\"Total de enfermos por quadro evolutivo\");\n",
    "plt.ylabel(\"Evolução\")\n",
    "plt.xlabel(\"Total de enfermos\");"
   ]
  },
  {
   "cell_type": "code",
   "execution_count": 49,
   "id": "624dea08",
   "metadata": {},
   "outputs": [
    {
     "data": {
      "text/plain": [
       "EM ANÁLISE       253\n",
       "INCONCLUSIVO     413\n",
       "DESCARTADO      2041\n",
       "CONFIRMADO      2793\n",
       "Name: classificacao_final, dtype: int64"
      ]
     },
     "execution_count": 49,
     "metadata": {},
     "output_type": "execute_result"
    }
   ],
   "source": [
    "#Enfermos por classificação final\n",
    "df[\"classificacao_final\"].value_counts(ascending=True)"
   ]
  },
  {
   "cell_type": "code",
   "execution_count": 50,
   "id": "7f02e001",
   "metadata": {},
   "outputs": [
    {
     "data": {
      "image/png": "[encoded data removed]",
      "text/plain": [
       "<Figure size 432x288 with 1 Axes>"
      ]
     },
     "metadata": {
      "needs_background": "light"
     },
     "output_type": "display_data"
    }
   ],
   "source": [
    "#Gráfico da quantidade de enfermos por classificação final\n",
    "df[\"classificacao_final\"].value_counts(ascending=True).plot.bar(title=\"Total de enfermos por classificação final\");\n",
    "plt.ylabel(\"Total de enfermos\")\n",
    "plt.xlabel(\"Resultado de exame\");"
   ]
  },
  {
   "cell_type": "code",
   "execution_count": 51,
   "id": "61f6c1b9",
   "metadata": {},
   "outputs": [
    {
     "data": {
      "text/plain": [
       "raca\n",
       "Parda       678\n",
       "Branca      380\n",
       "Ignorado     93\n",
       "Preta        66\n",
       "Amarela       6\n",
       "Indígena      0\n",
       "Name: data_obito, dtype: int64"
      ]
     },
     "execution_count": 51,
     "metadata": {},
     "output_type": "execute_result"
    }
   ],
   "source": [
    "#Óbitos por raça\n",
    "df.groupby(\"raca\")[\"data_obito\"].count().sort_values(ascending=False)"
   ]
  },
  {
   "cell_type": "code",
   "execution_count": 52,
   "id": "66b5357d",
   "metadata": {},
   "outputs": [
    {
     "data": {
      "image/png": "[encoded data removed]",
      "text/plain": [
       "<Figure size 720x360 with 1 Axes>"
      ]
     },
     "metadata": {},
     "output_type": "display_data"
    }
   ],
   "source": [
    "#Gráfico do total de óbitos por raça\n",
    "df.groupby(\"raca\")[\"data_obito\"].count().sort_values(ascending=False).plot.pie(title=\"Total de Óbitos por Raça\", figsize=(10,5), autopct='%1.0f%%')\n",
    "plt.ylabel(\"\");"
   ]
  },
  {
   "cell_type": "code",
   "execution_count": 53,
   "id": "93901249",
   "metadata": {},
   "outputs": [
    {
     "data": {
      "image/png": "[encoded data removed]",
      "text/plain": [
       "<Figure size 864x576 with 1 Axes>"
      ]
     },
     "metadata": {
      "needs_background": "light"
     },
     "output_type": "display_data"
    }
   ],
   "source": [
    "#Gráfico de notificações ano 2020 - 2021\n",
    "df.groupby(df[\"data_notificacao\"])[\"id\"].count().plot(title=\"Total de Notificações 2020 - 2021\",figsize=(12,8))\n",
    "plt.ylabel(\"Notificações\")\n",
    "plt.xlabel(\"Mês\");"
   ]
  },
  {
   "cell_type": "code",
   "execution_count": 54,
   "id": "678b8cd3",
   "metadata": {},
   "outputs": [],
   "source": [
    "#No ano de 2020\n",
    "df_2020 = df[df.data_notificacao.dt.year == 2020]"
   ]
  },
  {
   "cell_type": "code",
   "execution_count": 55,
   "id": "8e529414",
   "metadata": {},
   "outputs": [
    {
     "data": {
      "image/png": "[encoded data removed]",
      "text/plain": [
       "<Figure size 864x576 with 1 Axes>"
      ]
     },
     "metadata": {
      "needs_background": "light"
     },
     "output_type": "display_data"
    }
   ],
   "source": [
    "#Gráfico de notificações ano 2020\n",
    "df_2020.groupby(df_2020.data_notificacao)[\"id\"].count().plot(title=\"Total de Notificações por Mês em 2020\",figsize=(12,8))\n",
    "plt.ylabel(\"Notificações\")\n",
    "plt.xlabel(\"Mês\");"
   ]
  }
 ],
 "metadata": {
  "kernelspec": {
   "display_name": "Python 3",
   "language": "python",
   "name": "python3"
  },
  "language_info": {
   "codemirror_mode": {
    "name": "ipython",
    "version": 3
   },
   "file_extension": ".py",
   "mimetype": "text/x-python",
   "name": "python",
   "nbconvert_exporter": "python",
   "pygments_lexer": "ipython3",
   "version": "3.8.10"
  }
 },
 "nbformat": 4,
 "nbformat_minor": 5
}
